{
 "cells": [
  {
   "cell_type": "code",
   "execution_count": 1,
   "id": "57333b37",
   "metadata": {},
   "outputs": [],
   "source": [
    "# EURUSD Analysis"
   ]
  },
  {
   "cell_type": "code",
   "execution_count": 1,
   "id": "383e4241",
   "metadata": {},
   "outputs": [],
   "source": [
    "# Libraries \n",
    "import MetaTrader5 as mt5\n",
    "import pandas as pd"
   ]
  },
  {
   "cell_type": "code",
   "execution_count": 2,
   "id": "bac46501",
   "metadata": {},
   "outputs": [
    {
     "data": {
      "text/plain": [
       "True"
      ]
     },
     "execution_count": 2,
     "metadata": {},
     "output_type": "execute_result"
    }
   ],
   "source": [
    "# Connect to MetaTrader5 as mt5\n",
    "mt5.initialize()"
   ]
  },
  {
   "cell_type": "code",
   "execution_count": 3,
   "id": "b8db75c3",
   "metadata": {},
   "outputs": [
    {
     "name": "stdout",
     "output_type": "stream",
     "text": [
      "Total benefits: -0.003369999999999873\n"
     ]
    }
   ],
   "source": [
    "# Define the symbol and timeframe\n",
    "symbol = \"EURUSD\"\n",
    "timeframe = mt5.TIMEFRAME_H1\n",
    "\n",
    "# Retrieve historical data\n",
    "bars = 1000\n",
    "rates = mt5.copy_rates_from_pos(symbol, timeframe, 0, bars)\n",
    "\n",
    "# Initialize variables\n",
    "position = 0  # 0: no position, 1: long position, -1: short position\n",
    "entry_price = 0\n",
    "benefits = 0\n",
    "\n",
    "# Iterate over the historical data\n",
    "for i in range(2, len(rates)):\n",
    "    current_bar = rates[i]\n",
    "    previous_bar = rates[i - 1]\n",
    "    second_previous_bar = rates[i - 2]\n",
    "\n",
    "    # Check for bullish engulfing pattern\n",
    "    if (previous_bar[\"close\"] < previous_bar[\"open\"] and\n",
    "            current_bar[\"close\"] > current_bar[\"open\"] and\n",
    "            current_bar[\"close\"] > previous_bar[\"open\"] and\n",
    "            current_bar[\"open\"] < previous_bar[\"close\"] and\n",
    "            current_bar[\"high\"] > previous_bar[\"high\"] and\n",
    "            current_bar[\"low\"] < previous_bar[\"low\"]):\n",
    "        # Open a long position\n",
    "        if position != 1:\n",
    "            entry_price = current_bar[\"close\"]\n",
    "            position = 1\n",
    "\n",
    "    # Check for bearish engulfing pattern\n",
    "    elif (previous_bar[\"close\"] > previous_bar[\"open\"] and\n",
    "            current_bar[\"close\"] < current_bar[\"open\"] and\n",
    "            current_bar[\"close\"] < previous_bar[\"open\"] and\n",
    "            current_bar[\"open\"] > previous_bar[\"close\"] and\n",
    "            current_bar[\"high\"] > previous_bar[\"high\"] and\n",
    "            current_bar[\"low\"] < previous_bar[\"low\"]):\n",
    "        # Open a short position\n",
    "        if position != -1:\n",
    "            entry_price = current_bar[\"close\"]\n",
    "            position = -1\n",
    "\n",
    "    # Check for closing the position\n",
    "    elif position != 0:\n",
    "        if (position == 1 and current_bar[\"close\"] < previous_bar[\"close\"]) or \\\n",
    "                (position == -1 and current_bar[\"close\"] > previous_bar[\"close\"]):\n",
    "            # Close the position\n",
    "            exit_price = current_bar[\"close\"]\n",
    "            benefits += exit_price - entry_price\n",
    "            position = 0\n",
    "            \n",
    "# Display the benefits\n",
    "print(\"Total benefits:\", benefits)"
   ]
  },
  {
   "cell_type": "code",
   "execution_count": null,
   "id": "69fcabbd",
   "metadata": {},
   "outputs": [],
   "source": []
  }
 ],
 "metadata": {
  "kernelspec": {
   "display_name": "Python 3 (ipykernel)",
   "language": "python",
   "name": "python3"
  },
  "language_info": {
   "codemirror_mode": {
    "name": "ipython",
    "version": 3
   },
   "file_extension": ".py",
   "mimetype": "text/x-python",
   "name": "python",
   "nbconvert_exporter": "python",
   "pygments_lexer": "ipython3",
   "version": "3.10.12"
  }
 },
 "nbformat": 4,
 "nbformat_minor": 5
}
